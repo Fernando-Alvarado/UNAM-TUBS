{
  "cells": [
    {
      "cell_type": "markdown",
      "metadata": {
        "id": "AqGPAZcC9oW4"
      },
      "source": [
        "<center>\n",
        "<img src=\"https://www.plri.de/assets/images/logo_plri_de.png\"\n",
        "width=\"200\">\n",
        "<img src=\"https://upload.wikimedia.org/wikipedia/commons/thumb/9/9d/Siegel_TU_Braunschweig_transparent.svg/800px-Siegel_TU_Braunschweig_transparent.svg.png\"\n",
        "width=\"250\">\n",
        "<img src=\"https://upload.wikimedia.org/wikipedia/commons/3/3d/Medizinische_Hochschule_Hannover_logo.svg\"\n",
        "width=\"250\">\n",
        "<img src=\"https://images.seeklogo.com/logo-png/38/2/universidad-nacional-autonoma-de-mexico-unam-logo-png_seeklogo-387361.png\" width=\"110\">\n",
        "</center>"
      ]
    },
    {
      "cell_type": "markdown",
      "metadata": {
        "id": "JB_qg3iy6yET"
      },
      "source": [
        "<font color=\"Teal\" face=\"Georgia,arial\">\n",
        "  <h1 align=\"center\"><b></b></h1>\n",
        "  <h1 align=\"center\"><i><b>Filters</b></i></h1>\n",
        "  </font>\n",
        "  <font color=\"Black\" face=\"Georgia,arial\">\n",
        "  <h5 align=\"center\"><i><b>Prepared by volunteers</b></i></h5>\n",
        "  <h5 align=\"center\"><i><b>mail: unam.tubs@gmail.com</b></i></h5>\n",
        "</font>\n",
        "\n",
        "**CONTENTS**\n",
        "\n",
        "This notebook introduces basic image filtering techniques to demonstrate how they can enhance or modify images. Filters can be used to reduce noise, soften details, highlight edges, or increase sharpness, which are useful in areas such as photography, medical imaging, and computer vision. Through practical examples, we will observe the visual changes produced by different filters and understand their potential applications.\n",
        "\n",
        "----------------------------------------\n",
        "\n",
        "**🚀 HOW TO USE THE CODE?**\n",
        "\n",
        "1. Open the Style_Transfer.ipynb notebook in Google Colab.\n",
        "\n",
        "* Go to the menu: File > Save a copy to Drive\n",
        "* Gray cells with code are executed with Shift + Enter\n",
        "\n",
        "----------------------------------------\n",
        "\n",
        "**🔧 HOW TO RUN THE NOTEBOOK?**\n",
        "\n",
        "1. Locate the block of code you want to run.\n",
        "In the upper left corner of the block, click on the triangle button ▶️\n",
        "\n",
        "2. Wait for a green check mark ✅ to appear next to the block: this indicates that it has finished executing.\n",
        "\n",
        "----------------------------------------\n",
        "\n",
        "**📝 ADDITIONAL NOTES**\n",
        "\n",
        "- The code may take between 10 and 15 minutes to load.\n",
        "\n",
        "----------------------------------------\n",
        "**🙋 IF YOU HAVE ANY QUESTIONS ABOUT HOW TO USE THE CODE, YOU CAN SEND US AN EMAIL**\n",
        "\n",
        "Email for questions -- unam.tubs@gmail.com\n",
        "\n",
        "Attach a screenshot if you get an error message.\n"
      ]
    },
    {
      "cell_type": "markdown",
      "metadata": {
        "id": "BnRGv4nucNeY"
      },
      "source": [
        "### **Note**: In case of error, remove # from the second and third lines of this code and run it again."
      ]
    },
    {
      "cell_type": "code",
      "execution_count": null,
      "metadata": {
        "id": "tyS9q1BIx_wS"
      },
      "outputs": [],
      "source": [
        "#!pip install tensorflow opencv-python matplotlib numpy\n",
        "#!pip install torch torchvision matplotlib pillow numpy"
      ]
    },
    {
      "cell_type": "markdown",
      "metadata": {
        "id": "EgR4r2wOccYG"
      },
      "source": [
        "## Step 1: Run the libraries we are going to use"
      ]
    },
    {
      "cell_type": "code",
      "execution_count": 4,
      "metadata": {
        "id": "5smCwZNs0CER"
      },
      "outputs": [],
      "source": [
        "import numpy as np\n",
        "import cv2          # import OpenCV first\n",
        "import torch        # then PyTorch\n",
        "import torch.nn as nn\n",
        "import torch.optim as optim\n",
        "from torchvision import transforms, models\n",
        "from PIL import Image\n",
        "import matplotlib.pyplot as plt\n",
        "from IPython.display import display\n",
        "import io\n",
        "from pathlib import Path"
      ]
    },
    {
      "cell_type": "markdown",
      "metadata": {
        "id": "MNIcmOR01Drd"
      },
      "source": [
        "We will look at some filters with a single image and see how they change when filters are applied.\n",
        "\n",
        "**What will we notice in the following filters?**\n",
        "\n",
        "\n",
        "\n",
        "**Exercise 1.**\n",
        "* We can see that the Average Filter softens the image and reduces noise.\n",
        "* Meanwhile, the Gaussian Filter blurs the image, reducing noise and softening details.\n",
        "* The Median Filter softens the image, reducing noise without changing sharpness, helping us to eliminate the “salt and pepper” effect from the image.\n",
        "\n",
        "\n",
        "**Exercise 2.**\n",
        "* The Low Pass Filter softens the image and its intensity levels (aliasing), creating a blur in the image.\n",
        "* The high pass filter highlights details by increasing the contrast and sharpness in some areas of the image, only highlighting the edges of the figures in the image.\n",
        "\n",
        "**Exercise 3.**\n",
        "* When applying sharpness to images, we can see that there is an increase in the exposure and lighting of the images, giving greater clarity and detail to the objects in the image.\n",
        "\n"
      ]
    },
    {
      "cell_type": "markdown",
      "metadata": {
        "id": "52ELc93E34do"
      },
      "source": [
        "## **Exercise 1.**"
      ]
    },
    {
      "cell_type": "code",
      "execution_count": 5,
      "metadata": {
        "colab": {
          "base_uri": "https://localhost:8080/",
          "height": 106
        },
        "id": "3Jju2Q_czVEo",
        "outputId": "82c73619-2bf7-4a5d-c8de-61b1075dcd9a"
      },
      "outputs": [
        {
          "ename": "",
          "evalue": "",
          "output_type": "error",
          "traceback": [
            "\u001b[1;31mThe Kernel crashed while executing code in the current cell or a previous cell. \n",
            "\u001b[1;31mPlease review the code in the cell(s) to identify a possible cause of the failure. \n",
            "\u001b[1;31mClick <a href='https://aka.ms/vscodeJupyterKernelCrash'>here</a> for more info. \n",
            "\u001b[1;31mView Jupyter <a href='command:jupyter.viewOutput'>log</a> for further details."
          ]
        }
      ],
      "source": [
        "# Load the image\n",
        "img = cv2.imread(\"./Data/Images/Fig1_balloons_noisy.png\")\n",
        "\n",
        "# Apply the average filter\n",
        "average_filter = cv2.blur(img, (5, 5))\n",
        "\n",
        "# Apply the Gaussian filter\n",
        "gaussian_filter = cv2.GaussianBlur(img, (5, 5), 0)  # The sigma value is 0 in this case\n",
        "\n",
        "# Apply the median filter\n",
        "median_filter = cv2.medianBlur(img, 5)\n",
        "\n",
        "# Display the original image\n",
        "plt.imshow(cv2.cvtColor(img, cv2.COLOR_BGR2RGB))\n",
        "plt.title(\"Original Image\")\n",
        "plt.axis('off')  # Hide axes\n",
        "plt.show()\n",
        "\n",
        "# Display the image with the average filter\n",
        "plt.imshow(cv2.cvtColor(average_filter, cv2.COLOR_BGR2RGB))\n",
        "plt.title(\"Average Filter, known as cv2.blur\")\n",
        "plt.axis('off')\n",
        "plt.show()\n",
        "\n",
        "# Display the image with the Gaussian filter\n",
        "#plt.imshow(cv2.cvtColor(Gaussian_filter, cv2.COLOR_BGR2RGB))\n",
        "#plt.title(\"Gaussian filter, known as cv2.GaussianBlur\")\n",
        "#plt.axis('off')\n",
        "#plt.show()\n",
        "\n",
        "# Display the image with the median filter\n",
        "plt.imshow(cv2.cvtColor(median_filter, cv2.COLOR_BGR2RGB))\n",
        "plt.title(\"Median filter, known as cv2.medianBlur\")\n",
        "plt.axis('off')\n",
        "plt.show()\n"
      ]
    },
    {
      "cell_type": "markdown",
      "metadata": {
        "id": "umitVzCb4BtV"
      },
      "source": [
        "## **Exercise 2.**"
      ]
    },
    {
      "cell_type": "code",
      "execution_count": null,
      "metadata": {
        "colab": {
          "base_uri": "https://localhost:8080/",
          "height": 228
        },
        "id": "qCYSZFQWfLy8",
        "outputId": "36efcaf4-b4dd-47b1-c41d-d72b02694fec"
      },
      "outputs": [],
      "source": [
        "# Load the image\n",
        "img = cv2.imread(\"./Data/Images/Original_lena.jpg\")\n",
        "\n",
        "# Low-Pass Filter (Smoothing) 5x5\n",
        "filtro_pasa_bajas = np.array([[1, 4, 6, 4, 1],\n",
        "                              [4, 16, 24, 16, 4],\n",
        "                              [6, 24, 36, 24, 6],\n",
        "                              [4, 16, 24, 16, 4],\n",
        "                              [1, 4, 6, 4, 1]]) / 256  # Normalized\n",
        "\n",
        "# High-Pass Filter (Detail) 5x5\n",
        "filtro_pasa_altas = np.array([[-1, -4, 8, -4, -1],\n",
        "                              [-4, 14, 0, 14, -4],\n",
        "                              [8, 0, -58, 0, 8],\n",
        "                              [-4, 14, 0, 14, -4],\n",
        "                              [-1, -4, 8, -4, -1]]) / 14  # Normalized\n",
        "\n",
        "# Apply Low-Pass Filter (Smoothing)\n",
        "img_suavizada = cv2.filter2D(img, -1, filtro_pasa_bajas)\n",
        "\n",
        "# Apply High-Pass Filter (Detail)\n",
        "img_resaltada = cv2.filter2D(img, -1, filtro_pasa_altas)\n",
        "\n",
        "# Show the resulting images\n",
        "#plt.figure(figsize=(10, 5))\n",
        "#plt.subplot(131)\n",
        "plt.imshow(cv2.cvtColor(img, cv2.COLOR_BGR2RGB))\n",
        "plt.title(\"Original Image\")\n",
        "plt.axis('off')\n",
        "plt.show()\n",
        "\n",
        "#plt.subplot(132)\n",
        "plt.imshow(cv2.cvtColor(img_suavizada, cv2.COLOR_BGR2RGB))\n",
        "plt.title(\"Low-Pass Filter (Smoothing) 5x5\")\n",
        "plt.axis('off')\n",
        "plt.show()\n",
        "\n",
        "#plt.subplot(133)\n",
        "plt.imshow(cv2.cvtColor(img_resaltada, cv2.COLOR_BGR2RGB))\n",
        "plt.title(\"High-Pass Filter (Detail) 5x5\")\n",
        "plt.axis('off')\n",
        "plt.show()\n",
        "\n"
      ]
    },
    {
      "cell_type": "markdown",
      "metadata": {
        "id": "vyIDllqA4Igg"
      },
      "source": [
        "## **Exercise 3.**"
      ]
    },
    {
      "cell_type": "code",
      "execution_count": null,
      "metadata": {
        "id": "Z9YxO-ZGgJO5"
      },
      "outputs": [],
      "source": [
        "# Load the image\n",
        "img = cv2.imread(\"./Data/Images/Fig1_ojo_original.jpg\")\n",
        "\n",
        "# Check if the image was loaded correctly\n",
        "if img is not None:\n",
        "    # Function to apply a sharpening filter to the image\n",
        "    def aplicar_filtro_nitidez(imagen, factor):\n",
        "        # Use a different sharpening mask\n",
        "        mascara_enfoque = np.array([[0, -1, 0],\n",
        "                                    [-1, 5, -1],\n",
        "                                    [0, -1, 0]])\n",
        "\n",
        "        imagen_nitida = cv2.filter2D(imagen, -1, mascara_enfoque * factor)\n",
        "        return imagen_nitida\n",
        "\n",
        "    # Apply the sharpening filter\n",
        "    imagen_nitida = aplicar_filtro_nitidez(img, 2.0)  # Increase the factor\n",
        "    imagen_muy_nitida = aplicar_filtro_nitidez(img, 4.0)  # Increase the factor even more\n",
        "\n",
        "    # Display the images\n",
        "    plt.figure(figsize=(12, 5))\n",
        "    plt.subplot(131)\n",
        "    plt.imshow(cv2.cvtColor(img, cv2.COLOR_BGR2RGB))\n",
        "    plt.title(\"Original Image\")\n",
        "    plt.axis('off')\n",
        "\n",
        "    plt.subplot(132)\n",
        "    plt.imshow(cv2.cvtColor(imagen_nitida, cv2.COLOR_BGR2RGB))\n",
        "    plt.title(\"Sharpened Image (Factor 2.0)\")\n",
        "    plt.axis('off')\n",
        "\n",
        "    plt.subplot(133)\n",
        "    plt.imshow(cv2.cvtColor(imagen_muy_nitida, cv2.COLOR_BGR2RGB))\n",
        "    plt.title(\"Very Sharpened Image (Factor 4.0)\")\n",
        "    plt.axis('off')\n",
        "\n",
        "    plt.show()\n",
        "else:\n",
        "    print(\"Could not load the image. Check the file location and name.\")\n",
        "\n"
      ]
    },
    {
      "cell_type": "markdown",
      "metadata": {
        "id": "Td7Kk9MKXrUh"
      },
      "source": [
        "#**We want to see your creation!**\n",
        "\n",
        "##Share the results of your exercise by uploading your image at the following link. We would love to see how you combined content and style in your own unique way.\n",
        "\n",
        "##👉 [Upload your image here](https://docs.google.com/forms/d/e/1FAIpQLScueo3XCMjvyx_8V2Mzy8kHXZ-geiJYSEYg-T00uAArpmvimQ/viewform?usp=header)\n",
        "\n",
        "**Remember: each result is unique, and we can all learn from seeing each other's work. Go ahead and share it!**"
      ]
    }
  ],
  "metadata": {
    "colab": {
      "provenance": []
    },
    "kernelspec": {
      "display_name": "ai_cv",
      "language": "python",
      "name": "python3"
    },
    "language_info": {
      "codemirror_mode": {
        "name": "ipython",
        "version": 3
      },
      "file_extension": ".py",
      "mimetype": "text/x-python",
      "name": "python",
      "nbconvert_exporter": "python",
      "pygments_lexer": "ipython3",
      "version": "3.10.18"
    }
  },
  "nbformat": 4,
  "nbformat_minor": 0
}
